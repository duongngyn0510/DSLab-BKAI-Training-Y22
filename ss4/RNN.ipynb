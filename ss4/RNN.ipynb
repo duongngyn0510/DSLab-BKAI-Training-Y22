{
 "cells": [
  {
   "cell_type": "code",
   "execution_count": 1,
   "id": "abbbc1c5",
   "metadata": {},
   "outputs": [],
   "source": [
    "from keras.layers import Input, Dense, LSTM, Embedding, Bidirectional\n",
    "import numpy as np\n",
    "from keras.models import Sequential\n",
    "from keras.preprocessing.sequence import pad_sequences"
   ]
  },
  {
   "cell_type": "code",
   "execution_count": 2,
   "id": "7a5638ed",
   "metadata": {},
   "outputs": [],
   "source": [
    "with open('./datasets/20news_train_raw.txt') as f:\n",
    "    contents_train = [(content.split('<fff>')[0], \\\n",
    "                 content.split('<fff>')[1], \\\n",
    "                 content.split('<fff>')[2] \\\n",
    "                ) for content in f.read().splitlines()]\n",
    "\n",
    "with open('./datasets/20news_test_raw.txt') as f:\n",
    "    contents_test = [(content.split('<fff>')[0], \\\n",
    "                 content.split('<fff>')[1], \\\n",
    "                 content.split('<fff>')[2] \\\n",
    "                ) for content in f.read().splitlines()]\n",
    "                \n",
    "with open('./datasets/vocab_raw.txt') as f:\n",
    "    vocab = f.read().splitlines()"
   ]
  },
  {
   "cell_type": "code",
   "execution_count": 3,
   "id": "2c0da943",
   "metadata": {},
   "outputs": [],
   "source": [
    "word2id = dict([(word, index+1) for (index, word) in enumerate(vocab)])\n",
    "id2word = {index: word for word, index in word2id.items()}"
   ]
  },
  {
   "cell_type": "code",
   "execution_count": 4,
   "id": "767b43e7",
   "metadata": {},
   "outputs": [],
   "source": [
    "def get_pad_data(contents):\n",
    "    norm_bible = [(label, doc_id, len(words.split()[:500]), words.split()[:SENT_LENGTH]) for label, doc_id, words in contents]\n",
    "\n",
    "    encoded_data = [[word2id[w] if w in word2id.keys() \n",
    "                                else 1 for w in words]\n",
    "                                for label, doc_id, len_words, words in norm_bible]\n",
    "\n",
    "    pad_data = pad_sequences(encoded_data, maxlen=SENT_LENGTH, padding='post')\n",
    "    data_labels = np.array([int(content[0]) for content in contents])\n",
    "    return pad_data, data_labels\n",
    "\n",
    "SENT_LENGTH = 500\n",
    "train_padded_data, train_data_labels = get_pad_data(contents=contents_train)\n",
    "test_padded_data, test_data_labels = get_pad_data(contents=contents_test)"
   ]
  },
  {
   "cell_type": "code",
   "execution_count": 5,
   "id": "b0337eaa",
   "metadata": {},
   "outputs": [],
   "source": [
    "with open('./datasets/vocab_raw.txt') as f:\n",
    "    vocab = f.read().splitlines()\n",
    "with open('./datasets/20news_train_encoded.txt') as f:\n",
    "    train_data = f.read().splitlines()\n",
    "    train_padded_data = [contents.split('<fff>')[3].split() for contents in train_data]\n",
    "    train_padded_data = [[int(ind) for ind in content] for content in train_padded_data]\n",
    "    train_data_labels = [int(contents.split('<fff>')[0]) for contents in train_data]\n",
    "\n",
    "with open('./datasets/20news_test_encoded.txt') as f:\n",
    "    test_data = f.read().splitlines()\n",
    "    test_padded_data = [contents.split('<fff>')[3].split() for contents in test_data]\n",
    "    test_padded_data = [[int(ind) for ind in content] for content in test_padded_data]\n",
    "    test_data_labels = [int(contents.split('<fff>')[0]) for contents in test_data]"
   ]
  },
  {
   "cell_type": "code",
   "execution_count": 6,
   "id": "d795b822",
   "metadata": {},
   "outputs": [
    {
     "name": "stdout",
     "output_type": "stream",
     "text": [
      "Epoch 1/10\n",
      "236/236 [==============================] - 38s 150ms/step - loss: 2.2795 - accuracy: 0.3028 - val_loss: 2.0612 - val_accuracy: 0.4174\n",
      "Epoch 2/10\n",
      "236/236 [==============================] - 21s 88ms/step - loss: 0.8785 - accuracy: 0.7766 - val_loss: 1.4846 - val_accuracy: 0.5956\n",
      "Epoch 3/10\n",
      "236/236 [==============================] - 21s 91ms/step - loss: 0.3369 - accuracy: 0.9227 - val_loss: 1.4649 - val_accuracy: 0.6283\n",
      "Epoch 4/10\n",
      "236/236 [==============================] - 21s 90ms/step - loss: 0.1611 - accuracy: 0.9688 - val_loss: 1.6073 - val_accuracy: 0.6214\n",
      "Epoch 5/10\n",
      "236/236 [==============================] - 21s 88ms/step - loss: 0.0849 - accuracy: 0.9846 - val_loss: 1.7056 - val_accuracy: 0.6332\n",
      "Epoch 6/10\n",
      "236/236 [==============================] - 21s 88ms/step - loss: 0.0670 - accuracy: 0.9862 - val_loss: 1.7882 - val_accuracy: 0.6260\n",
      "Epoch 7/10\n",
      "236/236 [==============================] - 21s 88ms/step - loss: 0.0506 - accuracy: 0.9902 - val_loss: 2.0467 - val_accuracy: 0.5707\n",
      "Epoch 8/10\n",
      "236/236 [==============================] - 20s 87ms/step - loss: 0.0597 - accuracy: 0.9871 - val_loss: 1.8843 - val_accuracy: 0.6303\n",
      "Epoch 9/10\n",
      "236/236 [==============================] - 21s 87ms/step - loss: 0.0404 - accuracy: 0.9912 - val_loss: 1.8574 - val_accuracy: 0.6343\n",
      "Epoch 10/10\n",
      "236/236 [==============================] - 21s 91ms/step - loss: 0.0354 - accuracy: 0.9912 - val_loss: 2.0666 - val_accuracy: 0.6170\n"
     ]
    },
    {
     "data": {
      "text/plain": [
       "<keras.callbacks.History at 0x2a1dd9b4820>"
      ]
     },
     "execution_count": 6,
     "metadata": {},
     "output_type": "execute_result"
    }
   ],
   "source": [
    "vocab_size = len(vocab)\n",
    "embedding_size = 300\n",
    "LSTM_size = 50\n",
    "batch_size = 32\n",
    "NUM_CLASSES = 20\n",
    "\n",
    "model = Sequential()\n",
    "model.add(Input(shape=[SENT_LENGTH]))\n",
    "model.add(Embedding(vocab_size+1, embedding_size, input_length=SENT_LENGTH))\n",
    "model.add(Bidirectional(LSTM(LSTM_size)))\n",
    "model.add(Dense(NUM_CLASSES, activation='softmax'))\n",
    "model.compile(loss='sparse_categorical_crossentropy', optimizer='adam', metrics=['accuracy'])\n",
    "\n",
    "model.fit(train_padded_data, train_data_labels, epochs=10, batch_size=batch_size, \n",
    "                        validation_data=(test_padded_data, test_data_labels), verbose=1)"
   ]
  }
 ],
 "metadata": {
  "kernelspec": {
   "display_name": "Python 3 (ipykernel)",
   "language": "python",
   "name": "python3"
  },
  "language_info": {
   "codemirror_mode": {
    "name": "ipython",
    "version": 3
   },
   "file_extension": ".py",
   "mimetype": "text/x-python",
   "name": "python",
   "nbconvert_exporter": "python",
   "pygments_lexer": "ipython3",
   "version": "3.9.7"
  }
 },
 "nbformat": 4,
 "nbformat_minor": 5
}
